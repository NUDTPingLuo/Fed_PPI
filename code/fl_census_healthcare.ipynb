{
 "cells": [
  {
   "cell_type": "markdown",
   "source": [
    "# Relationship between income and private health insurance\n",
    "\n",
    "The goal is to investigate the quantitative effect of income on the procurement of private health insurance using US census data. The target of inference is the logistic regression coefficient when regressing the binary indicator of health insurance on income. The data from California in the year 2019 is downloaded through the Folktables interface (1). Predictions of health insurance are made by training a gradient boosting tree via XGBoost (2) on the previous year’s data.\n",
    "\n",
    "1. F. Ding, M. Hardt, J. Miller, L. Schmidt, “Retiring adult: New datasets for fair machine learning” in Advances in Neural Information Processing Systems 34 (2021), pp. 6478–6490.\n",
    "2. T. Chen, C. Guestrin, “XGBoost: A scalable tree boosting system” in Proceedings of the 22nd ACM SIGKDD International Conference on Knowledge Discovery and Data Mining (2016), pp. 785–794."
   ],
   "metadata": {
    "collapsed": false
   },
   "id": "c825964034f43d71"
  },
  {
   "cell_type": "markdown",
   "source": [
    "### Import necessary packages"
   ],
   "metadata": {
    "collapsed": false
   },
   "id": "55dbaba2ec7f059c"
  },
  {
   "cell_type": "code",
   "execution_count": 1,
   "outputs": [],
   "source": [
    "import numpy as np\n",
    "from datasets import load_dataset\n",
    "from FL_cpp_method import analyze_dataset, plot_cpp"
   ],
   "metadata": {
    "collapsed": false,
    "ExecuteTime": {
     "end_time": "2024-09-27T06:03:59.365947400Z",
     "start_time": "2024-09-27T06:03:59.361785700Z"
    }
   },
   "id": "c34dd50ecb0e1ff7"
  },
  {
   "cell_type": "code",
   "execution_count": 2,
   "outputs": [
    {
     "name": "stdout",
     "output_type": "stream",
     "text": [
      "分组： 1\n",
      "带标签的样本量： 6364\n",
      "不带标签的样本量： 57279\n",
      "分组： 2\n",
      "带标签的样本量： 6364\n",
      "不带标签的样本量： 57279\n",
      "分组： 3\n",
      "带标签的样本量： 6364\n",
      "不带标签的样本量： 57279\n",
      "分组： 4\n",
      "带标签的样本量： 6364\n",
      "不带标签的样本量： 57279\n",
      "分组： 5\n",
      "带标签的样本量： 6364\n",
      "不带标签的样本量： 57279\n",
      "带标签的样本量： 31820\n",
      "不带标签的样本量： 286395\n"
     ]
    },
    {
     "name": "stderr",
     "output_type": "stream",
     "text": [
      "C:\\ProgramData\\anaconda3\\Lib\\site-packages\\sklearn\\linear_model\\_logistic.py:1182: FutureWarning: `penalty='none'`has been deprecated in 1.2 and will be removed in 1.4. To keep the past behaviour, set `penalty=None`.\n",
      "  warnings.warn(\n"
     ]
    },
    {
     "name": "stdout",
     "output_type": "stream",
     "text": [
      "\n",
      "最终结果：\n",
      "真实 theta: 1.9133574599926604e-05\n",
      "CPP intervals: [array([1.69358589e-05, 2.23273596e-05]), array([1.84731112e-05, 2.32105167e-05]), array([1.39002612e-05, 1.91429647e-05]), array([1.62819798e-05, 2.15797739e-05]), array([1.64631927e-05, 2.21590333e-05])]\n",
      "组合数据的置信区间: [1.7583318e-05 1.9934360e-05]\n",
      "联邦聚合后的置信区间: [1.76964633e-05 2.00906412e-05]\n"
     ]
    }
   ],
   "source": [
    "# 示例调用\n",
    "dataset_name = \"census_healthcare\"\n",
    "data = load_dataset('../data/', dataset_name)\n",
    "Y_total = data[\"Y\"]\n",
    "Yhat_total = data[\"Yhat\"]\n",
    "X_total = data[\"X\"]\n",
    "\n",
    "alpha = 0.05\n",
    "\n",
    "method = \"logistic\"\n",
    "\n",
    "dataset_dist = 'IID'\n",
    "# dataset_dist = 'Non-IID'\n",
    "\n",
    "# num_ratio = [1, 1, 1, 1, 1, 1, 1, 1, 1, 1, 1, 1, 1, 1, 1, 1, 1, 1, 1, 1]\n",
    "num_ratio = [1, 1, 1, 1, 1]  # 数据量分布平衡\n",
    "# num_ratio = [1,2,3,3,1]  # 数据量分布不平衡\n",
    "\n",
    "# 计算标注真实值、各节点上、组合数据后和FL后的平均值cpp\n",
    "true_theta, cpp_intervals, ppi_ci_combined, mean_cpp = analyze_dataset(alpha, X_total, Y_total, Yhat_total, dataset_dist,\n",
    "                                                                            num_ratio, method, grid=None)\n",
    "# 画图\n",
    "file_name = dataset_dist + '-' + dataset_name + '.pdf'\n",
    "xlim = [-1*1e-5, 4*1e-5]\n",
    "ylim = [0, 1.0]\n",
    "title = \"Logistic coeff\"\n",
    "plot_cpp(true_theta, cpp_intervals, ppi_ci_combined, mean_cpp, file_name, xlim, ylim, title)"
   ],
   "metadata": {
    "collapsed": false,
    "ExecuteTime": {
     "end_time": "2024-09-27T06:04:15.976230300Z",
     "start_time": "2024-09-27T06:03:59.368938900Z"
    }
   },
   "id": "884fea47a60e4e0"
  }
 ],
 "metadata": {
  "kernelspec": {
   "display_name": "Python 3",
   "language": "python",
   "name": "python3"
  },
  "language_info": {
   "codemirror_mode": {
    "name": "ipython",
    "version": 2
   },
   "file_extension": ".py",
   "mimetype": "text/x-python",
   "name": "python",
   "nbconvert_exporter": "python",
   "pygments_lexer": "ipython2",
   "version": "2.7.6"
  }
 },
 "nbformat": 4,
 "nbformat_minor": 5
}
