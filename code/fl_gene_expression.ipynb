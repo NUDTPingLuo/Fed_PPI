{
 "cells": [
  {
   "cell_type": "markdown",
   "source": [
    "# Distribution of gene expression levels\n",
    "\n",
    "The goal is to estimate quantiles that characterize how a population of promoter sequences affects gene expression. Vaishnav et al. (1) recently trained a state-of-the-art transformer model to predict the expression level of a particular gene induced by a promoter sequence. They used the model's predictions to study the effects of promoters; for example, by assessing how quantiles of predicted expression levels differ between different populations of promoters. This notebook shows how the predictions used by Vaishnav et al. can be leveraged to estimate different quantiles of gene expression levels induced by native yeast promoters with higher statistical power.\n",
    "\n",
    "1. E. D. Vaishnav, C. G. de Boer, J. Molinet, M. Yassour, L. Fan, X. Adiconis, D. A. Thompson, J. Z. Levin, F. A. Cubillos, A. Regev, The evolution, evolvability and engineering of gene regulatory DNA. Nature 603(7901), 455–463 (2022)."
   ],
   "metadata": {
    "collapsed": false
   },
   "id": "459a46a26680b405"
  },
  {
   "cell_type": "markdown",
   "source": [
    "### Import necessary packages"
   ],
   "metadata": {
    "collapsed": false
   },
   "id": "176070d4f09691dc"
  },
  {
   "cell_type": "code",
   "execution_count": 1,
   "outputs": [],
   "source": [
    "import numpy as np\n",
    "from datasets import load_dataset\n",
    "from FL_cpp_method import analyze_dataset, plot_cpp"
   ],
   "metadata": {
    "collapsed": false,
    "ExecuteTime": {
     "end_time": "2024-09-27T06:08:05.078210100Z",
     "start_time": "2024-09-27T06:08:05.074866200Z"
    }
   },
   "id": "27818583e3e41271"
  },
  {
   "cell_type": "code",
   "execution_count": 2,
   "outputs": [
    {
     "name": "stdout",
     "output_type": "stream",
     "text": [
      "分组： 1\n",
      "带标签的样本量： 1223\n",
      "不带标签的样本量： 11007\n",
      "分组： 2\n",
      "带标签的样本量： 1223\n",
      "不带标签的样本量： 11007\n",
      "分组： 3\n",
      "带标签的样本量： 1223\n",
      "不带标签的样本量： 11007\n",
      "分组： 4\n",
      "带标签的样本量： 1223\n",
      "不带标签的样本量： 11007\n",
      "分组： 5\n",
      "带标签的样本量： 1223\n",
      "不带标签的样本量： 11007\n",
      "imputed var: [1.9761907e-09 1.9761907e-09 1.9761907e-09 ... 1.9761907e-09 1.9761907e-09\n",
      " 1.9761907e-09]\n",
      "rectifier var [1.87777747e-07 2.14498693e-07 2.14498693e-07 ... 1.87777747e-07\n",
      " 1.87777747e-07 1.87777747e-07]\n",
      "带标签的样本量： 6115\n",
      "不带标签的样本量： 55035\n",
      "\n",
      "最终结果：\n",
      "真实 theta: 5.650311615722635\n",
      "CPP intervals: [array([5.37570439, 5.97431801]), array([5.0390398 , 5.97375651]), array([5.11503672, 6.06751791]), array([5.521116  , 6.05694165]), array([5.31098184, 6.32432634])]\n",
      "组合数据的置信区间: [5.49365368 5.82598794]\n",
      "联邦聚合后的置信区间: [5.49522748 5.82504729]\n"
     ]
    }
   ],
   "source": [
    "# 示例调用\n",
    "dataset_name = \"gene_expression\"\n",
    "data = load_dataset('../data/', dataset_name)\n",
    "Y_total = data[\"Y\"]\n",
    "Yhat_total = data[\"Yhat\"]\n",
    "\n",
    "alpha = 0.05\n",
    "\n",
    "method = \"quantile\"\n",
    "\n",
    "dataset_dist = 'IID'\n",
    "# dataset_dist = 'Non-IID'\n",
    "\n",
    "grid = np.concatenate([Y_total, Yhat_total], axis=0)\n",
    "grid = np.linspace(grid.min(), grid.max(), 5000)\n",
    "\n",
    "# num_ratio = [1, 1, 1, 1, 1, 1, 1, 1, 1, 1, 1, 1, 1, 1, 1, 1, 1, 1, 1, 1]\n",
    "num_ratio = [1, 1, 1, 1, 1]  # 数据量分布平衡\n",
    "# num_ratio = [1,2,3,3,1]  # 数据量分布不平衡\n",
    "\n",
    "# 计算标注真实值、各节点上、组合数据后和FL后的平均值cpp\n",
    "true_theta, cpp_intervals, ppi_ci_combined, mean_cpp = analyze_dataset(alpha, None, Y_total, Yhat_total, dataset_dist,\n",
    "                                                                            num_ratio, method, grid)\n",
    "# 画图\n",
    "file_name = dataset_dist + '-' + dataset_name + '.pdf'\n",
    "xlim = [2, 13.7]\n",
    "ylim = [0, 1.0]\n",
    "title = \"0.5-quantile gene expression\"\n",
    "plot_cpp(true_theta, cpp_intervals, ppi_ci_combined, mean_cpp, file_name, xlim, ylim, title)"
   ],
   "metadata": {
    "collapsed": false,
    "ExecuteTime": {
     "end_time": "2024-09-27T06:08:14.413839100Z",
     "start_time": "2024-09-27T06:08:05.080210200Z"
    }
   },
   "id": "1fd2702a56aa6a97"
  }
 ],
 "metadata": {
  "kernelspec": {
   "display_name": "Python 3",
   "language": "python",
   "name": "python3"
  },
  "language_info": {
   "codemirror_mode": {
    "name": "ipython",
    "version": 2
   },
   "file_extension": ".py",
   "mimetype": "text/x-python",
   "name": "python",
   "nbconvert_exporter": "python",
   "pygments_lexer": "ipython2",
   "version": "2.7.6"
  }
 },
 "nbformat": 4,
 "nbformat_minor": 5
}
