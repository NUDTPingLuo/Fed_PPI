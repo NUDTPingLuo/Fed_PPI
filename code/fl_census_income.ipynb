{
 "cells": [
  {
   "cell_type": "markdown",
   "source": [
    "# Relationship between age and income\n",
    "\n",
    "The goal is to investigate the relationship between age and income using US census data. The target of inference is the linear regression coefficient when regressing yearly income in dollars on age, while controlling for sex. The data from California in the year 2019 is downloaded through the Folktables interface (1). Predictions of income are made by training a gradient boosting tree via XGBoost (2) on the previous year’s data.\n",
    "\n",
    "1. F. Ding, M. Hardt, J. Miller, L. Schmidt, “Retiring adult: New datasets for fair machine learning” in Advances in Neural Information Processing Systems 34 (2021), pp. 6478–6490.\n",
    "2. T. Chen, C. Guestrin, “XGBoost: A scalable tree boosting system” in Proceedings of the 22nd ACM SIGKDD International Conference on Knowledge Discovery and Data Mining (2016), pp. 785–794."
   ],
   "metadata": {
    "collapsed": false
   },
   "id": "7cdb760a10f07a6e"
  },
  {
   "cell_type": "markdown",
   "source": [
    "### Import necessary packages"
   ],
   "metadata": {
    "collapsed": false
   },
   "id": "a74a2861797ae727"
  },
  {
   "cell_type": "code",
   "execution_count": 1,
   "outputs": [],
   "source": [
    "import numpy as np\n",
    "from datasets import load_dataset\n",
    "from FL_cpp_method import analyze_dataset, plot_cpp"
   ],
   "metadata": {
    "collapsed": false,
    "ExecuteTime": {
     "end_time": "2024-09-27T06:06:20.271298Z",
     "start_time": "2024-09-27T06:06:20.268067Z"
    }
   },
   "id": "5b4de205faa28c3b"
  },
  {
   "cell_type": "code",
   "execution_count": 2,
   "outputs": [
    {
     "name": "stdout",
     "output_type": "stream",
     "text": [
      "分组： 1\n",
      "带标签的样本量： 7601\n",
      "不带标签的样本量： 68418\n",
      "分组： 2\n",
      "带标签的样本量： 7601\n",
      "不带标签的样本量： 68417\n",
      "分组： 3\n",
      "带标签的样本量： 7601\n",
      "不带标签的样本量： 68417\n",
      "分组： 4\n",
      "带标签的样本量： 7601\n",
      "不带标签的样本量： 68417\n",
      "分组： 5\n",
      "带标签的样本量： 7601\n",
      "不带标签的样本量： 68417\n",
      "带标签的样本量： 38005\n",
      "不带标签的样本量： 342086\n",
      "\n",
      "最终结果：\n",
      "真实 theta: 937.5318947805291\n",
      "CPP intervals: [array([ 888.33379315, 1006.00173535]), array([865.46299665, 990.72776535]), array([879.65428206, 996.24751686]), array([ 889.23679495, 1007.64406727]), array([868.07338288, 995.10683764])]\n",
      "组合数据的置信区间: [911.56403282 965.73379052]\n",
      "联邦聚合后的置信区间: [911.56919665 965.72868261]\n"
     ]
    }
   ],
   "source": [
    "# 示例调用\n",
    "dataset_name = \"census_income\"\n",
    "data = load_dataset('../data/', dataset_name)\n",
    "Y_total = data[\"Y\"]\n",
    "Yhat_total = data[\"Yhat\"]\n",
    "X_total = data[\"X\"]\n",
    "\n",
    "alpha = 0.05\n",
    "\n",
    "method = \"linear\"\n",
    "\n",
    "dataset_dist = 'IID'\n",
    "# dataset_dist = 'Non-IID'\n",
    "\n",
    "# num_ratio = [1, 1, 1, 1, 1, 1, 1, 1, 1, 1, 1, 1, 1, 1, 1, 1, 1, 1, 1, 1]\n",
    "num_ratio = [1, 1, 1, 1, 1]  # 数据量分布平衡\n",
    "# num_ratio = [1,2,3,3,1]  # 数据量分布不平衡\n",
    "\n",
    "# 计算标注真实值、各节点上、组合数据后和FL后的平均值cpp\n",
    "true_theta, cpp_intervals, ppi_ci_combined, mean_cpp = analyze_dataset(alpha, X_total, Y_total, Yhat_total, dataset_dist,\n",
    "                                                                            num_ratio, method, grid=None)\n",
    "# 画图\n",
    "file_name = dataset_dist + '-' + dataset_name + '.pdf'\n",
    "xlim = [0, 2600]\n",
    "ylim = [0, 1.0]\n",
    "title = \"OLS coeff\"\n",
    "plot_cpp(true_theta, cpp_intervals, ppi_ci_combined, mean_cpp, file_name, xlim, ylim, title)"
   ],
   "metadata": {
    "collapsed": false,
    "ExecuteTime": {
     "end_time": "2024-09-27T06:06:48.292168400Z",
     "start_time": "2024-09-27T06:06:20.273288800Z"
    }
   },
   "id": "26504786fea18bc"
  }
 ],
 "metadata": {
  "kernelspec": {
   "display_name": "Python 3",
   "language": "python",
   "name": "python3"
  },
  "language_info": {
   "codemirror_mode": {
    "name": "ipython",
    "version": 2
   },
   "file_extension": ".py",
   "mimetype": "text/x-python",
   "name": "python",
   "nbconvert_exporter": "python",
   "pygments_lexer": "ipython2",
   "version": "2.7.6"
  }
 },
 "nbformat": 4,
 "nbformat_minor": 5
}
