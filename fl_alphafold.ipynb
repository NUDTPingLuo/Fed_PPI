{
 "cells": [
  {
   "cell_type": "markdown",
   "id": "52e6ed5f075c9dbb",
   "metadata": {},
   "source": [
    "# Relating protein structure and post-translational modifications\n",
    "\n",
    "The goal is to characterize whether various types of post-translational modifications (PTMs) occur more frequently in intrinsically disordered regions (IDRs) of proteins (1). The target of inference is the odds ratio associating being in an IDR and having a PTM.\n",
    "This notebook shows how to do inference on the odds ratio via PPI by using structures predicted by AlphaFold (2) to predict IDRs. IDRs are predicted from structures following the strategy of Bludau et al. (3).\n",
    "\n",
    "1. L. M. Iakoucheva, P. Radivojac, C. J. Brown, T. R. O’Connor, J. G. Sikes, Z. Obradovic, A. K. Dunker, The importance of intrinsic disorder for protein phosphorylation. Nucleic Acids Res. 32, 1037–1049 (2004).\n",
    "2. J. Jumper, R. Evans, A. Pritzel, T. Green, M. Figurnov, O. Ronneberger, K. Tunyasuvunakool, R. Bates, A. Žídek, A. Potapenko, A. Bridgland, C. Meyer, S. A. A. Kohl, A. J. Ballard, A. Cowie, B. Romera-Paredes, S. Nikolov, R. Jain, J. Adler, T. Back, S. Petersen, D. Reiman, E. Clancy, M. Zielinski, M. Steinegger, M. Pacholska, T. Berghammer, S. Bodenstein, D. Silver, O. Vinyals, A. W. Senior, K. Kavukcuoglu, P. Kohli, D. Hassabis, Highly accurate protein structure prediction with AlphaFold. Nature 596(7873), 583–589 (2021). \n",
    "3. I. Bludau, S. Willems, W-F. Zeng, M. T. Strauss, F. M. Hansen, M. C. Tanzer, O. Karayel, B. A. Schulman, M. Mann, The structural context of posttranslational modifications at a proteome-wide scale. PLoS Biology 20(5), e3001636 (2022)."
   ]
  },
  {
   "cell_type": "markdown",
   "id": "14d2f594-03a8-4878-9454-42cc5ea3a81f",
   "metadata": {},
   "source": [
    "### Import necessary packages"
   ]
  },
  {
   "cell_type": "code",
   "execution_count": 1,
   "id": "4f57ecd3",
   "metadata": {
    "tags": [],
    "ExecuteTime": {
     "end_time": "2024-09-18T08:44:47.309413800Z",
     "start_time": "2024-09-18T08:44:46.166172400Z"
    }
   },
   "outputs": [],
   "source": [
    "import numpy as np\n",
    "from ppi_py.datasets import load_dataset\n",
    "from ppi_py import analyze_dataset, plot_cpp\n",
    "import pandas as pd\n",
    "import os"
   ]
  },
  {
   "cell_type": "markdown",
   "id": "5cf90ae6",
   "metadata": {},
   "source": [
    "### Import the AlphaFold data set\n",
    "\n",
    "Load the data. The data set contains true indicators of disorder (```Y```), predicted indicators of disorder (```Yhat```), and indicators of a PTM (```phosphorylated```, ```ubiquitinated```, or ```acetylated```). Predictions of disorder are made based on AlphaFold predictions of structure."
   ]
  },
  {
   "cell_type": "code",
   "execution_count": 2,
   "id": "a6da3138",
   "metadata": {
    "tags": [],
    "ExecuteTime": {
     "end_time": "2024-09-18T08:44:47.314234700Z",
     "start_time": "2024-09-18T08:44:47.311413300Z"
    }
   },
   "outputs": [],
   "source": [
    "dataset_name = \"alphafold\"\n",
    "data = load_dataset('./data/', dataset_name)\n",
    "Y_total = data[\"Y\"]\n",
    "Yhat_total = data[\"Yhat\"]\n",
    "Z = data[\"phosphorylated\"].astype(\n",
    "    bool\n",
    ")  # Can choose from \"phosphorylated\", \"ubiquitinated\", or \"acetylated\"\n",
    "# method_name = \"ppi_mean_ci\"\n",
    "\n",
    "dataset_dist = 'IID'\n",
    "# dataset_dist = 'Non-IID'\n",
    "\n",
    "alpha = 0.1\n",
    "\n",
    "method = 'mean'\n",
    "\n",
    "Y0_total, Y1_total = Y_total[~Z], Y_total[Z]\n",
    "Yhat0_total, Yhat1_total = Yhat_total[~Z], Yhat_total[Z]"
   ]
  },
  {
   "cell_type": "markdown",
   "id": "8969f9db",
   "metadata": {},
   "source": [
    "### Problem setup\n",
    "\n",
    "Specify the error level (```alpha```), range of values for the labeled data set size (```ns```), and number of trials (```num_trials```).\n",
    "\n",
    "Compute the ground-truth value of the estimand."
   ]
  },
  {
   "cell_type": "code",
   "execution_count": 3,
   "id": "5b3c8f29",
   "metadata": {
    "ExecuteTime": {
     "end_time": "2024-09-18T08:44:47.375200100Z",
     "start_time": "2024-09-18T08:44:47.316339Z"
    }
   },
   "outputs": [
    {
     "name": "stdout",
     "output_type": "stream",
     "text": [
      "分组： 1\n",
      "带标签的样本量： 50\n",
      "不带标签的样本量： 907\n",
      "分组： 2\n",
      "带标签的样本量： 50\n",
      "不带标签的样本量： 907\n",
      "分组： 3\n",
      "带标签的样本量： 50\n",
      "不带标签的样本量： 907\n",
      "分组： 4\n",
      "带标签的样本量： 50\n",
      "不带标签的样本量： 907\n",
      "分组： 5\n",
      "带标签的样本量： 50\n",
      "不带标签的样本量： 907\n",
      "imputed var: [1.01273933e-05]\n",
      "rectifier var [0.00013614]\n",
      "带标签的样本量： 250\n",
      "不带标签的样本量： 4535\n",
      "\n",
      "最终结果：\n",
      "真实 theta: 0.11912225705329153\n",
      "CPP intervals: [array([0.04330896, 0.12766907]), array([0.06902553, 0.17733023]), array([0.08495339, 0.19798915]), array([0.05981002, 0.09721689]), array([0.07306652, 0.15281496])]\n",
      "组合数据的置信区间: [0.08892823 0.12864615]\n",
      "联邦聚合后的置信区间: [0.08842531 0.12821163]\n",
      "Updated CSV file 'parameters.csv' successfully.\n",
      "分组： 1\n",
      "带标签的样本量： 63\n",
      "不带标签的样本量： 1141\n",
      "分组： 2\n",
      "带标签的样本量： 63\n",
      "不带标签的样本量： 1141\n",
      "分组： 3\n",
      "带标签的样本量： 63\n",
      "不带标签的样本量： 1140\n",
      "分组： 4\n",
      "带标签的样本量： 63\n",
      "不带标签的样本量： 1140\n",
      "分组： 5\n",
      "带标签的样本量： 63\n",
      "不带标签的样本量： 1140\n",
      "imputed var: [1.77480383e-05]\n",
      "rectifier var [0.00016737]\n",
      "带标签的样本量： 315\n",
      "不带标签的样本量： 5702\n",
      "\n",
      "最终结果：\n",
      "真实 theta: 0.22369951803224197\n",
      "CPP intervals: [array([0.16027878, 0.25706231]), array([0.17156039, 0.25694364]), array([0.21424047, 0.33654215]), array([0.18117881, 0.2720761 ]), array([0.15283421, 0.25349587])]\n",
      "组合数据的置信区间: [0.20538313 0.25000134]\n",
      "联邦聚合后的置信区间: [0.20323682 0.24799631]\n",
      "Updated CSV file 'parameters.csv' successfully.\n"
     ]
    }
   ],
   "source": [
    "# num_ratio = [1, 1, 1, 1, 1, 1, 1, 1, 1, 1, 1, 1, 1, 1, 1, 1, 1, 1, 1, 1]\n",
    "num_ratio = [1, 1, 1, 1, 1]  # 数据量分布平衡\n",
    "# num_ratio = [1,2,3,3,1]  # 数据量分布不平衡\n",
    "\n",
    "# 计算标注真实值、各节点上、组合数据后和FL后的平均值cpp\n",
    "true_theta0, cpp_intervals0, ppi_ci_combined0, mean_cpp0 = analyze_dataset(alpha, None, Y0_total, Yhat0_total, dataset_dist,\n",
    "                                                                            num_ratio, method, grid=None)\n",
    "\n",
    "true_theta1, cpp_intervals1, ppi_ci_combined1, mean_cpp1 = analyze_dataset(alpha, None, Y1_total, Yhat1_total, dataset_dist,\n",
    "                                                                            num_ratio, method, grid=None)\n",
    "\n",
    "# True odds ratio\n",
    "true_theta = (true_theta1 / (1 - true_theta1)) / (true_theta0 / (1 - true_theta0))"
   ]
  },
  {
   "cell_type": "markdown",
   "id": "83ce18be",
   "metadata": {},
   "source": [
    "### Construct intervals\n",
    "\n",
    "Form confidence intervals for all methods and problem parameters. A dataframe with the following columns is formed:\n",
    "1. ```method``` (one of ```PPI```, ```Classical```, and ```Imputation```)\n",
    "2. ```n``` (labeled data set size, takes values in ```ns```)\n",
    "3. ```lower``` (lower endpoint of the confidence interval)\n",
    "4. ```upper``` (upper endpoint of the confidence interval)\n",
    "5. ```trial``` (index of trial, goes from ```0``` to ```num_trials-1```)"
   ]
  },
  {
   "cell_type": "code",
   "execution_count": 4,
   "id": "55c3df32",
   "metadata": {
    "ExecuteTime": {
     "end_time": "2024-09-18T08:44:47.381201Z",
     "start_time": "2024-09-18T08:44:47.345840400Z"
    }
   },
   "outputs": [],
   "source": [
    "def odds_ratio_ci(mu0_ci, mu1_ci):\n",
    "    # First construct CI of mu0/(1-mu0) and mu1/(1-mu1)\n",
    "    r0 = [mu0_ci[0] / (1 - mu0_ci[0]), mu0_ci[1] / (1 - mu0_ci[1])]\n",
    "    r1 = [mu1_ci[0] / (1 - mu1_ci[0]), mu1_ci[1] / (1 - mu1_ci[1])]\n",
    "    return r1[0] / r0[1], r1[1] / r0[0]"
   ]
  },
  {
   "cell_type": "code",
   "execution_count": 5,
   "outputs": [
    {
     "name": "stdout",
     "output_type": "stream",
     "text": [
      "(1.3041768022138955, 7.643283514753679)\n",
      "(0.9607246860634647, 4.663845598427824)\n",
      "(1.104461838159551, 5.463722267187888)\n",
      "(2.0547549140650405, 5.875516804923255)\n",
      "(1.000148680499427, 4.307932046013147)\n"
     ]
    }
   ],
   "source": [
    "cpp_intervals = []\n",
    "for i in range(len(cpp_intervals0)):\n",
    "    tmp = odds_ratio_ci(cpp_intervals0[i], cpp_intervals1[i])\n",
    "    print(tmp)\n",
    "    cpp_intervals.append(np.array(tmp))\n",
    "\n",
    "ppi_ci_combined = odds_ratio_ci(ppi_ci_combined0, ppi_ci_combined1)\n",
    "\n",
    "mean_cpp = odds_ratio_ci(mean_cpp0, mean_cpp1)"
   ],
   "metadata": {
    "collapsed": false,
    "ExecuteTime": {
     "end_time": "2024-09-18T08:44:47.382200900Z",
     "start_time": "2024-09-18T08:44:47.348840100Z"
    }
   },
   "id": "8053667e0dd43bb5"
  },
  {
   "cell_type": "markdown",
   "id": "d15ba288",
   "metadata": {},
   "source": [
    "### Plot results\n",
    "\n",
    "Plot:\n",
    "1. Five randomly chosen intervals from the dataframe for PPI and the classical method, and the imputed interval;\n",
    "2. The average interval width for PPI and the classical method, together with a scatterplot of the widths from the five random draws."
   ]
  },
  {
   "cell_type": "code",
   "execution_count": 6,
   "id": "6077b2c4",
   "metadata": {
    "ExecuteTime": {
     "end_time": "2024-09-18T08:44:47.623433200Z",
     "start_time": "2024-09-18T08:44:47.352200600Z"
    }
   },
   "outputs": [
    {
     "name": "stdout",
     "output_type": "stream",
     "text": [
      "true theta 2.1308747140812856\n",
      "FL (1.734430010443027, 3.399702468804126)\n",
      "组合数据 (1.7506718307894225, 3.4150320402680463)\n",
      "Client [array([1.3041768 , 7.64328351]), array([0.96072469, 4.6638456 ]), array([1.10446184, 5.46372227]), array([2.05475491, 5.8755168 ]), array([1.00014868, 4.30793205])]\n"
     ]
    },
    {
     "name": "stderr",
     "output_type": "stream",
     "text": [
      "meta NOT subset; don't know how to subset; dropped\n"
     ]
    },
    {
     "data": {
      "text/plain": "<Figure size 300x250 with 1 Axes>",
      "image/png": "[encoded data removed]"
     },
     "metadata": {},
     "output_type": "display_data"
    }
   ],
   "source": [
    "print(\"true theta\", true_theta)\n",
    "print(\"FL\",mean_cpp)\n",
    "print(\"组合数据\", ppi_ci_combined)\n",
    "print('Client', cpp_intervals)\n",
    "# # 文件名\n",
    "# filename = 'parameters.csv'\n",
    "# \n",
    "# # 新的数组数据\n",
    "# new_data = {\n",
    "#     'centralized_lower': [ppi_ci_combined[0]],\n",
    "#     'centralized_upper': [ppi_ci_combined[1]],\n",
    "#     'fl_lower': [mean_cpp[0]],\n",
    "#     'fl_upper': [mean_cpp[1]]\n",
    "# }\n",
    "# \n",
    "# # 检查参数文件是否存在\n",
    "# if os.path.exists(filename):\n",
    "#     # 如果文件存在，读取现有数据\n",
    "#     df = pd.read_csv(filename)\n",
    "# else:\n",
    "#     # 如果文件不存在，创建一个空的 DataFrame\n",
    "#     df = pd.DataFrame(columns=['centralized_lower', 'centralized_upper', 'fl_lower', 'fl_upper'])\n",
    "# \n",
    "# # 将新数据添加到 DataFrame\n",
    "# new_df = pd.DataFrame(new_data)\n",
    "# df = pd.concat([df, new_df], ignore_index=True)\n",
    "# \n",
    "# # 保存更新后的数据到CSV文件\n",
    "# df.to_csv(filename, index=False)\n",
    "# \n",
    "# print(f\"Updated CSV file '{filename}' successfully.\")\n",
    "\n",
    "file_name = dataset_dist + '-' + dataset_name + '.pdf'\n",
    "xlim = [-4, 8]\n",
    "ylim = [0, 1.0]\n",
    "title = \"odds ratio between \\n disorder and phosphorylation\"\n",
    "plot_cpp(true_theta, cpp_intervals, ppi_ci_combined, mean_cpp, file_name, xlim, ylim, title)"
   ]
  }
 ],
 "metadata": {
  "kernelspec": {
   "display_name": "Python 3 (ipykernel)",
   "language": "python",
   "name": "python3"
  },
  "language_info": {
   "codemirror_mode": {
    "name": "ipython",
    "version": 3
   },
   "file_extension": ".py",
   "mimetype": "text/x-python",
   "name": "python",
   "nbconvert_exporter": "python",
   "pygments_lexer": "ipython3",
   "version": "3.11.4"
  }
 },
 "nbformat": 4,
 "nbformat_minor": 5
}
