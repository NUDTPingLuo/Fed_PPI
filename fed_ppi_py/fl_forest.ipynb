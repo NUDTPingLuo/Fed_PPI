{
 "cells": [
  {
   "cell_type": "markdown",
   "source": [
    "# Estimating deforestation in the Amazon\n",
    "\n",
    "The goal is to estimate the fraction of the Amazon rainforest lost between 2000 and 2015. The data contains gold-standard deforestation labels for parcels that were collected through field visits (1), as well as predictions of forest cover based on applying computer vision to satellite imagery (2).\n",
    "\n",
    "1. E. L. Bullock, C. E. Woodcock, C. Souza Jr, P. Olofsson, Satellite‐based estimates reveal widespread forest degradation in the Amazon. Global Change Biology 26(5), 2956–2969 (2020).\n",
    "2. J. O. Sexton, J. X-P. Song, M. Feng, P. Noojipady, A. Anand, C. Huang, D-H. Kim, K. M. Collins, S. Channan, C. DiMiceli, J. R. Townshend, Global, 30-m resolution continuous fields of tree cover: Landsat-based rescaling of MODIS vegetation continuous fields with lidar-based estimates of error. International Journal of Digital Earth 6(5), 427–448 (2013)."
   ],
   "metadata": {
    "collapsed": false
   },
   "id": "670bc85757b54f35"
  },
  {
   "cell_type": "markdown",
   "source": [
    "### Import necessary packages"
   ],
   "metadata": {
    "collapsed": false
   },
   "id": "9247403cbf5cd055"
  },
  {
   "cell_type": "code",
   "execution_count": 1,
   "outputs": [],
   "source": [
    "import numpy as np\n",
    "from ppi_py.datasets import load_dataset\n",
    "from ppi_py import analyze_dataset, plot_cpp"
   ],
   "metadata": {
    "collapsed": false,
    "ExecuteTime": {
     "end_time": "2024-09-18T08:34:16.620753300Z",
     "start_time": "2024-09-18T08:34:15.474926200Z"
    }
   },
   "id": "initial_id"
  },
  {
   "cell_type": "code",
   "execution_count": 2,
   "outputs": [
    {
     "name": "stdout",
     "output_type": "stream",
     "text": [
      "Split 1: Y range from 0.12548173178981886 to 0.04103236491033855\n",
      "Split 2: Y range from 0.19856338914957036 to 0.04195711217843751\n",
      "Split 3: Y range from 0.1384005849368402 to 0.030059419530664985\n",
      "Split 4: Y range from 0.030059419530664985 to 0.09651032488754442\n",
      "Split 5: Y range from 0.09651032488754442 to 0.9793256632037612\n",
      "分组： 1\n",
      "带标签的样本量： 6\n",
      "不带标签的样本量： 314\n",
      "分组： 2\n",
      "带标签的样本量： 6\n",
      "不带标签的样本量： 313\n",
      "分组： 3\n",
      "带标签的样本量： 6\n",
      "不带标签的样本量： 313\n",
      "分组： 4\n",
      "带标签的样本量： 6\n",
      "不带标签的样本量： 313\n",
      "分组： 5\n",
      "带标签的样本量： 6\n",
      "不带标签的样本量： 313\n",
      "imputed var: [1.47471324e-05]\n",
      "rectifier var [0.00317962]\n",
      "带标签的样本量： 30\n",
      "不带标签的样本量： 1566\n",
      "\n",
      "最终结果：\n",
      "真实 theta: 0.15162907268170425\n",
      "CPP intervals: [array([-0.11887665,  0.47184461]), array([0.03624319, 0.21059137]), array([-0.10872606,  0.2188642 ]), array([-1.69192756e-07,  2.52260634e-07]), array([0.0999246 , 0.90007691])]\n",
      "组合数据的置信区间: [0.0799673  0.31225521]\n",
      "联邦聚合后的置信区间: [0.06022304 0.28177229]\n",
      "Updated CSV file 'parameters.csv' successfully.\n"
     ]
    },
    {
     "name": "stderr",
     "output_type": "stream",
     "text": [
      "meta NOT subset; don't know how to subset; dropped\n"
     ]
    },
    {
     "data": {
      "text/plain": "<Figure size 300x250 with 1 Axes>",
      "image/png": "[encoded data removed]"
     },
     "metadata": {},
     "output_type": "display_data"
    }
   ],
   "source": [
    "# 示例调用\n",
    "dataset_name = \"forest\"\n",
    "data = load_dataset('./data/', dataset_name)\n",
    "Y_total = data[\"Y\"]\n",
    "Yhat_total = data[\"Yhat\"]\n",
    "\n",
    "alpha = 0.05\n",
    "\n",
    "method = \"mean\"\n",
    "\n",
    "# dataset_dist = 'IID'\n",
    "dataset_dist = 'Non-IID'\n",
    "\n",
    "# num_ratio = [1, 1, 1, 1, 1, 1, 1, 1, 1, 1, 1, 1, 1, 1, 1, 1, 1, 1, 1, 1]\n",
    "num_ratio = [1, 1, 1, 1, 1]  # 数据量分布平衡\n",
    "# num_ratio = [1,2,3,4,5]  # 数据量分布不平衡\n",
    "# num_ratio = [5,4,3,2,1]  # 数据量分布不平衡\n",
    "\n",
    "# 计算标注真实值、各节点上、组合数据后和FL后的平均值cpp\n",
    "true_theta, cpp_intervals, ppi_ci_combined, mean_cpp = analyze_dataset(alpha, None, Y_total, Yhat_total, dataset_dist,\n",
    "                                                                            num_ratio, method, grid=None)\n",
    "# 画图\n",
    "file_name = dataset_dist + '-' + dataset_name + '.pdf'\n",
    "xlim = [-0.1, 0.5]\n",
    "ylim = [0, 1.0]\n",
    "title = \"fraction of areas deforested\"\n",
    "plot_cpp(true_theta, cpp_intervals, ppi_ci_combined, mean_cpp, file_name, xlim, ylim, title)"
   ],
   "metadata": {
    "collapsed": false,
    "ExecuteTime": {
     "end_time": "2024-09-18T08:34:16.916163700Z",
     "start_time": "2024-09-18T08:34:16.622770Z"
    }
   },
   "id": "d2ef7f8b0ac6a16b"
  }
 ],
 "metadata": {
  "kernelspec": {
   "display_name": "Python 3",
   "language": "python",
   "name": "python3"
  },
  "language_info": {
   "codemirror_mode": {
    "name": "ipython",
    "version": 2
   },
   "file_extension": ".py",
   "mimetype": "text/x-python",
   "name": "python",
   "nbconvert_exporter": "python",
   "pygments_lexer": "ipython2",
   "version": "2.7.6"
  }
 },
 "nbformat": 4,
 "nbformat_minor": 5
}
