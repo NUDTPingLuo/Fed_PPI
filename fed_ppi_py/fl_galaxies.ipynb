{
 "cells": [
  {
   "cell_type": "markdown",
   "source": [
    "# Galaxy classification\n",
    "\n",
    "The goal is to determine the demographics of galaxies with spiral arms, which are correlated with star formation in the discs of low-redshift galaxies, and therefore, contribute to the understanding of star formation in the Local Universe. A large citizen science initiative called Galaxy Zoo 2 (1) has collected human annotations of roughly 300000 images of galaxies from the Sloan Digital Sky Survey (2) with the goal of measuring these demographics. The target of inference is the fraction of galaxies with spiral arms. This notebook shows that prediction-powered inference allows for a decrease in the requisite number of human-annotated galaxies by imputing labels via computer vision.\n",
    "\n",
    "1. K. W. Willett,  C. J. Lintott,  S. P. Bamford,  K. L. Masters, B. D. Simmons,  K. R. V. Casteels,  E. M. Edmondson,  L. F. Fortson, S. Kaviraj,  W. C. Keel, T. Melvin, R. C. Nichol, M. J. Raddick, K. Schawinski, R. J. Simpson, R. A. Skibba, A. M. Smith, D. Thomas, Galaxy Zoo 2: detailed morphological classifications for 304 122 galaxies from the Sloan Digital Sky Survey. Monthly Notices of the Royal Astronomical Society 435(4), 2835–2860 (2013).\n",
    "2. D. G. York, J. Adelman, J. E. Anderson Jr, S. F. Anderson, J. Annis, N. A. Bahcall, …, N. Yasuda, The Sloan digital sky survey: Technical summary. The Astronomical Journal 120(3), 1579 (2000)."
   ],
   "metadata": {
    "collapsed": false
   },
   "id": "7ce2a36ec3bbe4c3"
  },
  {
   "cell_type": "code",
   "execution_count": 3,
   "outputs": [],
   "source": [
    "import numpy as np\n",
    "from ppi_py.datasets import load_dataset\n",
    "from ppi_py import analyze_dataset, plot_cpp"
   ],
   "metadata": {
    "collapsed": false,
    "ExecuteTime": {
     "end_time": "2024-09-18T08:28:01.492827100Z",
     "start_time": "2024-09-18T08:28:01.489059700Z"
    }
   },
   "id": "6bc277a449ca31b1"
  },
  {
   "cell_type": "code",
   "execution_count": 4,
   "outputs": [
    {
     "name": "stdout",
     "output_type": "stream",
     "text": [
      "Split 1: Y range from 0.00010132492752745748 to 0.015242121182382107\n",
      "Split 2: Y range from 0.015242393128573895 to 0.04439326375722885\n",
      "Split 3: Y range from 0.044401440769433975 to 0.15375055372714996\n",
      "Split 4: Y range from 0.15376797318458557 to 0.5576987862586975\n",
      "Split 5: Y range from 0.5578726530075073 to 0.9999994039535522\n",
      "分组： 1\n",
      "带标签的样本量： 38\n",
      "不带标签的样本量： 3311\n",
      "分组： 2\n",
      "带标签的样本量： 38\n",
      "不带标签的样本量： 3311\n",
      "分组： 3\n",
      "带标签的样本量： 38\n",
      "不带标签的样本量： 3311\n",
      "分组： 4\n",
      "带标签的样本量： 38\n",
      "不带标签的样本量： 3310\n",
      "分组： 5\n",
      "带标签的样本量： 38\n",
      "不带标签的样本量： 3310\n",
      "imputed var: [6.56125868e-06]\n",
      "rectifier var [0.00042672]\n",
      "带标签的样本量： 190\n",
      "不带标签的样本量： 16553\n",
      "\n",
      "最终结果：\n",
      "真实 theta: 0.2592725318043361\n",
      "CPP intervals: [array([-0.01624636,  0.06872194]), array([-0.01490921,  0.07033099]), array([0.02337494, 0.18715138]), array([0.20334231, 0.42250874]), array([0.76374444, 0.93234555])]\n",
      "组合数据的置信区间: [0.22824362 0.2978896 ]\n",
      "联邦聚合后的置信区间: [0.22976046 0.29823688]\n",
      "Updated CSV file 'parameters.csv' successfully.\n"
     ]
    },
    {
     "data": {
      "text/plain": "<Figure size 300x250 with 1 Axes>",
      "image/png": "[encoded data removed]"
     },
     "metadata": {},
     "output_type": "display_data"
    }
   ],
   "source": [
    "# 示例调用\n",
    "dataset_name = \"galaxies\"\n",
    "data = load_dataset('./data/', dataset_name)\n",
    "Y_total = data[\"Y\"]\n",
    "Yhat_total = data[\"Yhat\"]\n",
    "\n",
    "alpha = 0.1\n",
    "\n",
    "method = \"mean\"\n",
    "\n",
    "# dataset_dist = 'IID'\n",
    "dataset_dist = 'Non-IID'\n",
    "\n",
    "# num_ratio = [1, 1, 1, 1, 1, 1, 1, 1, 1, 1]\n",
    "# num_ratio = [1, 1, 1, 1, 1, 1, 1, 1, 1, 1, 1, 1, 1, 1, 1, 1, 1, 1, 1, 1]  # 数据量分布平衡\n",
    "num_ratio = [1,1,1,1,1]\n",
    "# num_ratio = [1,1,1,1,4]  # 数据量分布不平衡\n",
    "# num_ratio = [4,1,1,1,1]\n",
    "\n",
    "# 计算标注真实值、各节点上、组合数据后和FL后的平均值cpp\n",
    "true_theta, cpp_intervals, ppi_ci_combined, mean_cpp = analyze_dataset(alpha, None, Y_total, Yhat_total, dataset_dist,\n",
    "                                                                            num_ratio, method, grid=None)\n",
    "# 画图\n",
    "file_name = dataset_dist + '-' + dataset_name + '.pdf'\n",
    "xlim = [0, 0.85]  # max0.85\n",
    "ylim = [0, 1.0]\n",
    "# title = \"frequency of spiral galaxies \\n with partition [4:1:1:1:1]\"\n",
    "title = \"frequency of spiral galaxies\"\n",
    "plot_cpp(true_theta, cpp_intervals, ppi_ci_combined, mean_cpp, file_name, xlim, ylim, title)"
   ],
   "metadata": {
    "collapsed": false,
    "ExecuteTime": {
     "end_time": "2024-09-18T08:28:01.638792300Z",
     "start_time": "2024-09-18T08:28:01.495825800Z"
    }
   },
   "id": "9e4c17479222732"
  }
 ],
 "metadata": {
  "kernelspec": {
   "display_name": "Python 3 (ipykernel)",
   "language": "python",
   "name": "python3"
  },
  "language_info": {
   "codemirror_mode": {
    "name": "ipython",
    "version": 3
   },
   "file_extension": ".py",
   "mimetype": "text/x-python",
   "name": "python",
   "nbconvert_exporter": "python",
   "pygments_lexer": "ipython3",
   "version": "3.11.4"
  }
 },
 "nbformat": 4,
 "nbformat_minor": 5
}
