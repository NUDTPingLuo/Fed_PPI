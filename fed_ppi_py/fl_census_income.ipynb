{
 "cells": [
  {
   "cell_type": "markdown",
   "source": [
    "# Relationship between age and income\n",
    "\n",
    "The goal is to investigate the relationship between age and income using US census data. The target of inference is the linear regression coefficient when regressing yearly income in dollars on age, while controlling for sex. The data from California in the year 2019 is downloaded through the Folktables interface (1). Predictions of income are made by training a gradient boosting tree via XGBoost (2) on the previous year’s data.\n",
    "\n",
    "1. F. Ding, M. Hardt, J. Miller, L. Schmidt, “Retiring adult: New datasets for fair machine learning” in Advances in Neural Information Processing Systems 34 (2021), pp. 6478–6490.\n",
    "2. T. Chen, C. Guestrin, “XGBoost: A scalable tree boosting system” in Proceedings of the 22nd ACM SIGKDD International Conference on Knowledge Discovery and Data Mining (2016), pp. 785–794."
   ],
   "metadata": {
    "collapsed": false
   },
   "id": "7cdb760a10f07a6e"
  },
  {
   "cell_type": "markdown",
   "source": [
    "### Import necessary packages"
   ],
   "metadata": {
    "collapsed": false
   },
   "id": "a74a2861797ae727"
  },
  {
   "cell_type": "code",
   "execution_count": 1,
   "outputs": [],
   "source": [
    "import numpy as np\n",
    "from ppi_py.datasets import load_dataset\n",
    "from ppi_py import analyze_dataset, plot_cpp"
   ],
   "metadata": {
    "collapsed": false,
    "ExecuteTime": {
     "end_time": "2024-09-18T09:21:06.528409500Z",
     "start_time": "2024-09-18T09:21:05.402926400Z"
    }
   },
   "id": "5b4de205faa28c3b"
  },
  {
   "cell_type": "code",
   "execution_count": 2,
   "outputs": [
    {
     "name": "stdout",
     "output_type": "stream",
     "text": [
      "Split 1: Y range from -21421.84765625 to 0.04190260171890259\n",
      "Split 2: Y range from 0.04190260171890259 to 14424.25\n",
      "Split 3: Y range from 14424.5830078125 to 31821.640625\n",
      "Split 4: Y range from 31822.521484375 to 56306.28125\n",
      "Split 5: Y range from 56306.73828125 to 197141.75\n",
      "分组： 1\n",
      "带标签的样本量： 136\n",
      "不带标签的样本量： 75883\n",
      "分组： 2\n",
      "带标签的样本量： 136\n",
      "不带标签的样本量： 75882\n",
      "分组： 3\n",
      "带标签的样本量： 136\n",
      "不带标签的样本量： 75882\n",
      "分组： 4\n",
      "带标签的样本量： 136\n",
      "不带标签的样本量： 75882\n",
      "分组： 5\n",
      "带标签的样本量： 136\n",
      "不带标签的样本量： 75882\n",
      "带标签的样本量： 680\n",
      "不带标签的样本量： 379411\n",
      "\n",
      "最终结果：\n",
      "真实 theta: 937.5318947805291\n",
      "CPP intervals: [array([-43.88132633,  59.96588253]), array([164.79482943, 329.06330146]), array([529.32441184, 807.93370207]), array([ 751.18710644, 1775.51944566]), array([1527.90773767, 2954.36521081])]\n",
      "组合数据的置信区间: [ 726.04231491 1045.19002393]\n",
      "联邦聚合后的置信区间: [ 469.14567214 1302.08577046]\n",
      "Updated CSV file 'parameters.csv' successfully.\n"
     ]
    },
    {
     "name": "stderr",
     "output_type": "stream",
     "text": [
      "meta NOT subset; don't know how to subset; dropped\n"
     ]
    },
    {
     "data": {
      "text/plain": "<Figure size 300x250 with 1 Axes>",
      "image/png": "[encoded data removed]"
     },
     "metadata": {},
     "output_type": "display_data"
    }
   ],
   "source": [
    "# 示例调用\n",
    "dataset_name = \"census_income\"\n",
    "data = load_dataset('./data/', dataset_name)\n",
    "Y_total = data[\"Y\"]\n",
    "Yhat_total = data[\"Yhat\"]\n",
    "X_total = data[\"X\"]\n",
    "\n",
    "alpha = 0.05\n",
    "\n",
    "method = \"linear\"\n",
    "\n",
    "# dataset_dist = 'IID'\n",
    "dataset_dist = 'Non-IID'\n",
    "\n",
    "# num_ratio = [1, 1, 1, 1, 1, 1, 1, 1, 1, 1, 1, 1, 1, 1, 1, 1, 1, 1, 1, 1]\n",
    "num_ratio = [1, 1, 1, 1, 1]  # 数据量分布平衡\n",
    "# num_ratio = [1,2,3,3,1]  # 数据量分布不平衡\n",
    "\n",
    "# 计算标注真实值、各节点上、组合数据后和FL后的平均值cpp\n",
    "true_theta, cpp_intervals, ppi_ci_combined, mean_cpp = analyze_dataset(alpha, X_total, Y_total, Yhat_total, dataset_dist,\n",
    "                                                                            num_ratio, method, grid=None)\n",
    "# 画图\n",
    "file_name = dataset_dist + '-' + dataset_name + '.pdf'\n",
    "xlim = [0, 2600]\n",
    "ylim = [0, 1.0]\n",
    "title = \"OLS coeff\"\n",
    "plot_cpp(true_theta, cpp_intervals, ppi_ci_combined, mean_cpp, file_name, xlim, ylim, title)"
   ],
   "metadata": {
    "collapsed": false,
    "ExecuteTime": {
     "end_time": "2024-09-18T09:21:30.030697200Z",
     "start_time": "2024-09-18T09:21:06.530485200Z"
    }
   },
   "id": "26504786fea18bc"
  }
 ],
 "metadata": {
  "kernelspec": {
   "display_name": "Python 3",
   "language": "python",
   "name": "python3"
  },
  "language_info": {
   "codemirror_mode": {
    "name": "ipython",
    "version": 2
   },
   "file_extension": ".py",
   "mimetype": "text/x-python",
   "name": "python",
   "nbconvert_exporter": "python",
   "pygments_lexer": "ipython2",
   "version": "2.7.6"
  }
 },
 "nbformat": 4,
 "nbformat_minor": 5
}
